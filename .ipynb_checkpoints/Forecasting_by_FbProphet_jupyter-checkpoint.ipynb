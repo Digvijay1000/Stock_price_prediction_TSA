{
 "cells": [
  {
   "cell_type": "markdown",
   "metadata": {
    "id": "VYMH59DfLP9w"
   },
   "source": [
    "# Stock_price_prediction_by_FbProphet"
   ]
  },
  {
   "cell_type": "code",
   "execution_count": 1,
   "metadata": {
    "colab": {
     "base_uri": "https://localhost:8080/"
    },
    "id": "p-xz8DAqKUga",
    "outputId": "dab180c4-c00d-4505-e9ba-03a586abb9d1"
   },
   "outputs": [
    {
     "name": "stdout",
     "output_type": "stream",
     "text": [
      "Requirement already satisfied: prophet in c:\\users\\digvijay mohite\\appdata\\local\\programs\\python\\python311\\lib\\site-packages (1.1.4)\n",
      "Requirement already satisfied: cmdstanpy>=1.0.4 in c:\\users\\digvijay mohite\\appdata\\local\\programs\\python\\python311\\lib\\site-packages (from prophet) (1.1.0)\n",
      "Requirement already satisfied: numpy>=1.15.4 in c:\\users\\digvijay mohite\\appdata\\local\\programs\\python\\python311\\lib\\site-packages (from prophet) (1.24.2)\n",
      "Requirement already satisfied: matplotlib>=2.0.0 in c:\\users\\digvijay mohite\\appdata\\local\\programs\\python\\python311\\lib\\site-packages (from prophet) (3.7.1)\n",
      "Requirement already satisfied: pandas>=1.0.4 in c:\\users\\digvijay mohite\\appdata\\local\\programs\\python\\python311\\lib\\site-packages (from prophet) (2.0.1)\n",
      "Requirement already satisfied: LunarCalendar>=0.0.9 in c:\\users\\digvijay mohite\\appdata\\local\\programs\\python\\python311\\lib\\site-packages (from prophet) (0.0.9)\n",
      "Requirement already satisfied: convertdate>=2.1.2 in c:\\users\\digvijay mohite\\appdata\\local\\programs\\python\\python311\\lib\\site-packages (from prophet) (2.4.0)\n",
      "Requirement already satisfied: holidays>=0.25 in c:\\users\\digvijay mohite\\appdata\\local\\programs\\python\\python311\\lib\\site-packages (from prophet) (0.28)\n",
      "Requirement already satisfied: python-dateutil>=2.8.0 in c:\\users\\digvijay mohite\\appdata\\local\\programs\\python\\python311\\lib\\site-packages (from prophet) (2.8.2)\n",
      "Requirement already satisfied: tqdm>=4.36.1 in c:\\users\\digvijay mohite\\appdata\\local\\programs\\python\\python311\\lib\\site-packages (from prophet) (4.65.0)\n",
      "Requirement already satisfied: importlib-resources in c:\\users\\digvijay mohite\\appdata\\local\\programs\\python\\python311\\lib\\site-packages (from prophet) (5.12.0)\n",
      "Requirement already satisfied: pymeeus<=1,>=0.3.13 in c:\\users\\digvijay mohite\\appdata\\local\\programs\\python\\python311\\lib\\site-packages (from convertdate>=2.1.2->prophet) (0.5.12)\n",
      "Requirement already satisfied: ephem>=3.7.5.3 in c:\\users\\digvijay mohite\\appdata\\local\\programs\\python\\python311\\lib\\site-packages (from LunarCalendar>=0.0.9->prophet) (4.1.4)\n",
      "Requirement already satisfied: pytz in c:\\users\\digvijay mohite\\appdata\\local\\programs\\python\\python311\\lib\\site-packages (from LunarCalendar>=0.0.9->prophet) (2023.3)\n",
      "Requirement already satisfied: contourpy>=1.0.1 in c:\\users\\digvijay mohite\\appdata\\local\\programs\\python\\python311\\lib\\site-packages (from matplotlib>=2.0.0->prophet) (1.0.7)\n",
      "Requirement already satisfied: cycler>=0.10 in c:\\users\\digvijay mohite\\appdata\\local\\programs\\python\\python311\\lib\\site-packages (from matplotlib>=2.0.0->prophet) (0.11.0)\n",
      "Requirement already satisfied: fonttools>=4.22.0 in c:\\users\\digvijay mohite\\appdata\\local\\programs\\python\\python311\\lib\\site-packages (from matplotlib>=2.0.0->prophet) (4.39.3)\n",
      "Requirement already satisfied: kiwisolver>=1.0.1 in c:\\users\\digvijay mohite\\appdata\\local\\programs\\python\\python311\\lib\\site-packages (from matplotlib>=2.0.0->prophet) (1.4.4)\n",
      "Requirement already satisfied: packaging>=20.0 in c:\\users\\digvijay mohite\\appdata\\local\\programs\\python\\python311\\lib\\site-packages (from matplotlib>=2.0.0->prophet) (23.0)\n",
      "Requirement already satisfied: pillow>=6.2.0 in c:\\users\\digvijay mohite\\appdata\\local\\programs\\python\\python311\\lib\\site-packages (from matplotlib>=2.0.0->prophet) (9.5.0)\n",
      "Requirement already satisfied: pyparsing>=2.3.1 in c:\\users\\digvijay mohite\\appdata\\local\\programs\\python\\python311\\lib\\site-packages (from matplotlib>=2.0.0->prophet) (3.0.9)\n",
      "Requirement already satisfied: tzdata>=2022.1 in c:\\users\\digvijay mohite\\appdata\\local\\programs\\python\\python311\\lib\\site-packages (from pandas>=1.0.4->prophet) (2023.3)\n",
      "Requirement already satisfied: six>=1.5 in c:\\users\\digvijay mohite\\appdata\\local\\programs\\python\\python311\\lib\\site-packages (from python-dateutil>=2.8.0->prophet) (1.16.0)\n",
      "Requirement already satisfied: colorama in c:\\users\\digvijay mohite\\appdata\\local\\programs\\python\\python311\\lib\\site-packages (from tqdm>=4.36.1->prophet) (0.4.6)\n"
     ]
    }
   ],
   "source": [
    "!pip install prophet"
   ]
  },
  {
   "cell_type": "code",
   "execution_count": 2,
   "metadata": {
    "id": "_IfKIrZYLNBp"
   },
   "outputs": [
    {
     "name": "stderr",
     "output_type": "stream",
     "text": [
      "Importing plotly failed. Interactive plots will not work.\n"
     ]
    }
   ],
   "source": [
    "import pandas as pd\n",
    "from prophet.plot import plot_plotly, plot_components_plotly\n",
    "from prophet import Prophet\n",
    "\n",
    "import shutil\n",
    "\n",
    "import numpy as np\n",
    "import pandas as pd\n",
    "\n",
    "import warnings\n",
    "warnings.filterwarnings('ignore')\n",
    "\n",
    "import matplotlib.pyplot as plt\n",
    "%matplotlib inline\n",
    "from matplotlib.pylab import rcParams\n",
    "rcParams['figure.figsize']=12,8\n",
    "\n",
    "import seaborn as sns\n",
    "\n",
    "# pd.set_option('display.max_rows', None)\n",
    "# pd.set_option('display.max_columns', None)"
   ]
  },
  {
   "cell_type": "code",
   "execution_count": 3,
   "metadata": {
    "colab": {
     "base_uri": "https://localhost:8080/"
    },
    "id": "1vvoJptJNbUp",
    "outputId": "101fb1ee-92ac-4757-d751-e87b0a6a8f33"
   },
   "outputs": [],
   "source": [
    "# from google.colab import drive\n",
    "# drive.mount('/content/drive')"
   ]
  },
  {
   "cell_type": "code",
   "execution_count": 4,
   "metadata": {
    "colab": {
     "base_uri": "https://localhost:8080/"
    },
    "id": "yZFGG2rsN0zW",
    "outputId": "ec4e2c5d-f81f-4126-e1c1-38c6ea6d8733"
   },
   "outputs": [
    {
     "name": "stdout",
     "output_type": "stream",
     "text": [
      "shape of Date : (252, 13)\n",
      "shape of Date : (250, 13)\n",
      "shape of Date : (247, 13)\n"
     ]
    }
   ],
   "source": [
    "df1 = pd.read_csv('Quote-Equity-TECHM-EQ-01-07-2020-to-01-07-2021.csv',index_col='Date ', parse_dates=True)\n",
    "df1 = df1.dropna()\n",
    "print('shape of Date :',df1.shape)\n",
    "\n",
    "df2 = pd.read_csv('Quote-Equity-TECHM-EQ-01-07-2021-to-01-07-2022.csv',index_col='Date ', parse_dates=True)\n",
    "df2 = df2.dropna()\n",
    "print('shape of Date :',df2.shape)\n",
    "\n",
    "df3 = pd.read_csv('Quote-Equity-TECHM-EQ-01-07-2022-to-01-07-2023.csv',index_col='Date ', parse_dates=True)\n",
    "df3 = df3.dropna()\n",
    "print('shape of Date :',df3.shape)"
   ]
  },
  {
   "cell_type": "markdown",
   "metadata": {
    "id": "9vAUgIidrEM9"
   },
   "source": [
    "### Removing Duplicate Labels"
   ]
  },
  {
   "cell_type": "code",
   "execution_count": 5,
   "metadata": {
    "id": "oYdJjHnerDaP"
   },
   "outputs": [],
   "source": [
    "df2 = df2.drop('2021-07-01')\n",
    "df3 = df3.drop('2022-07-01')"
   ]
  },
  {
   "cell_type": "markdown",
   "metadata": {
    "id": "cyq7VsPFPlMr"
   },
   "source": [
    "###### Combining df1, df2 & df3"
   ]
  },
  {
   "cell_type": "code",
   "execution_count": 6,
   "metadata": {
    "colab": {
     "base_uri": "https://localhost:8080/",
     "height": 455
    },
    "id": "ZgII9oj1Pitm",
    "outputId": "d27480d3-806c-4e00-f08c-3bffe6c7c23c"
   },
   "outputs": [
    {
     "data": {
      "text/html": [
       "<div>\n",
       "<style scoped>\n",
       "    .dataframe tbody tr th:only-of-type {\n",
       "        vertical-align: middle;\n",
       "    }\n",
       "\n",
       "    .dataframe tbody tr th {\n",
       "        vertical-align: top;\n",
       "    }\n",
       "\n",
       "    .dataframe thead th {\n",
       "        text-align: right;\n",
       "    }\n",
       "</style>\n",
       "<table border=\"1\" class=\"dataframe\">\n",
       "  <thead>\n",
       "    <tr style=\"text-align: right;\">\n",
       "      <th></th>\n",
       "      <th>series</th>\n",
       "      <th>OPEN</th>\n",
       "      <th>HIGH</th>\n",
       "      <th>LOW</th>\n",
       "      <th>PREV. CLOSE</th>\n",
       "      <th>ltp</th>\n",
       "      <th>close</th>\n",
       "      <th>vwap</th>\n",
       "      <th>52W H</th>\n",
       "      <th>52W L</th>\n",
       "      <th>VOLUME</th>\n",
       "      <th>VALUE</th>\n",
       "      <th>No of trades</th>\n",
       "    </tr>\n",
       "    <tr>\n",
       "      <th>Date</th>\n",
       "      <th></th>\n",
       "      <th></th>\n",
       "      <th></th>\n",
       "      <th></th>\n",
       "      <th></th>\n",
       "      <th></th>\n",
       "      <th></th>\n",
       "      <th></th>\n",
       "      <th></th>\n",
       "      <th></th>\n",
       "      <th></th>\n",
       "      <th></th>\n",
       "      <th></th>\n",
       "    </tr>\n",
       "  </thead>\n",
       "  <tbody>\n",
       "    <tr>\n",
       "      <th>2021-07-01</th>\n",
       "      <td>EQ</td>\n",
       "      <td>1,096.00</td>\n",
       "      <td>1,099.35</td>\n",
       "      <td>1,081.00</td>\n",
       "      <td>1,095.45</td>\n",
       "      <td>1,085.65</td>\n",
       "      <td>1,085.15</td>\n",
       "      <td>1,087.08</td>\n",
       "      <td>1,109.40</td>\n",
       "      <td>536.05</td>\n",
       "      <td>1,459,518</td>\n",
       "      <td>1,586,616,040.75</td>\n",
       "      <td>49,293</td>\n",
       "    </tr>\n",
       "    <tr>\n",
       "      <th>2021-06-30</th>\n",
       "      <td>EQ</td>\n",
       "      <td>1,088.20</td>\n",
       "      <td>1,105.00</td>\n",
       "      <td>1,083.30</td>\n",
       "      <td>1,088.15</td>\n",
       "      <td>1,096.70</td>\n",
       "      <td>1,095.45</td>\n",
       "      <td>1,096.06</td>\n",
       "      <td>1,109.40</td>\n",
       "      <td>536.05</td>\n",
       "      <td>1,917,370</td>\n",
       "      <td>2,101,552,386.75</td>\n",
       "      <td>47,775</td>\n",
       "    </tr>\n",
       "    <tr>\n",
       "      <th>2021-06-29</th>\n",
       "      <td>EQ</td>\n",
       "      <td>1,109.00</td>\n",
       "      <td>1,109.40</td>\n",
       "      <td>1,083.00</td>\n",
       "      <td>1,105.10</td>\n",
       "      <td>1,088.95</td>\n",
       "      <td>1,088.15</td>\n",
       "      <td>1,095.11</td>\n",
       "      <td>1,109.40</td>\n",
       "      <td>536.05</td>\n",
       "      <td>2,956,332</td>\n",
       "      <td>3,237,521,521.85</td>\n",
       "      <td>64,875</td>\n",
       "    </tr>\n",
       "    <tr>\n",
       "      <th>2021-06-28</th>\n",
       "      <td>EQ</td>\n",
       "      <td>1,091.00</td>\n",
       "      <td>1,108.00</td>\n",
       "      <td>1,081.10</td>\n",
       "      <td>1,089.50</td>\n",
       "      <td>1,105.05</td>\n",
       "      <td>1,105.10</td>\n",
       "      <td>1,097.40</td>\n",
       "      <td>1,108.00</td>\n",
       "      <td>536.05</td>\n",
       "      <td>2,143,755</td>\n",
       "      <td>2,352,551,584.20</td>\n",
       "      <td>50,162</td>\n",
       "    </tr>\n",
       "    <tr>\n",
       "      <th>2021-06-25</th>\n",
       "      <td>EQ</td>\n",
       "      <td>1,087.40</td>\n",
       "      <td>1,103.20</td>\n",
       "      <td>1,077.00</td>\n",
       "      <td>1,080.00</td>\n",
       "      <td>1,085.95</td>\n",
       "      <td>1,089.50</td>\n",
       "      <td>1,090.65</td>\n",
       "      <td>1,103.20</td>\n",
       "      <td>536.05</td>\n",
       "      <td>3,200,049</td>\n",
       "      <td>3,490,121,301.75</td>\n",
       "      <td>73,477</td>\n",
       "    </tr>\n",
       "    <tr>\n",
       "      <th>...</th>\n",
       "      <td>...</td>\n",
       "      <td>...</td>\n",
       "      <td>...</td>\n",
       "      <td>...</td>\n",
       "      <td>...</td>\n",
       "      <td>...</td>\n",
       "      <td>...</td>\n",
       "      <td>...</td>\n",
       "      <td>...</td>\n",
       "      <td>...</td>\n",
       "      <td>...</td>\n",
       "      <td>...</td>\n",
       "      <td>...</td>\n",
       "    </tr>\n",
       "    <tr>\n",
       "      <th>2022-07-08</th>\n",
       "      <td>EQ</td>\n",
       "      <td>1,031.00</td>\n",
       "      <td>1,034.70</td>\n",
       "      <td>1,014.55</td>\n",
       "      <td>1,020.75</td>\n",
       "      <td>1,028.50</td>\n",
       "      <td>1,026.50</td>\n",
       "      <td>1,025.27</td>\n",
       "      <td>1,838.00</td>\n",
       "      <td>943.7</td>\n",
       "      <td>2,841,036</td>\n",
       "      <td>2,912,839,394.40</td>\n",
       "      <td>82,047</td>\n",
       "    </tr>\n",
       "    <tr>\n",
       "      <th>2022-07-07</th>\n",
       "      <td>EQ</td>\n",
       "      <td>1,020.95</td>\n",
       "      <td>1,026.90</td>\n",
       "      <td>1,016.00</td>\n",
       "      <td>1,009.90</td>\n",
       "      <td>1,021.00</td>\n",
       "      <td>1,020.75</td>\n",
       "      <td>1,021.66</td>\n",
       "      <td>1,838.00</td>\n",
       "      <td>943.7</td>\n",
       "      <td>1,901,699</td>\n",
       "      <td>1,942,888,370.90</td>\n",
       "      <td>57,171</td>\n",
       "    </tr>\n",
       "    <tr>\n",
       "      <th>2022-07-06</th>\n",
       "      <td>EQ</td>\n",
       "      <td>1,008.00</td>\n",
       "      <td>1,014.90</td>\n",
       "      <td>1,001.60</td>\n",
       "      <td>1,003.20</td>\n",
       "      <td>1,013.25</td>\n",
       "      <td>1,009.90</td>\n",
       "      <td>1,008.74</td>\n",
       "      <td>1,838.00</td>\n",
       "      <td>943.7</td>\n",
       "      <td>2,188,175</td>\n",
       "      <td>2,207,292,933.95</td>\n",
       "      <td>60,372</td>\n",
       "    </tr>\n",
       "    <tr>\n",
       "      <th>2022-07-05</th>\n",
       "      <td>EQ</td>\n",
       "      <td>1,005.00</td>\n",
       "      <td>1,021.90</td>\n",
       "      <td>999.00</td>\n",
       "      <td>999.95</td>\n",
       "      <td>1,003.90</td>\n",
       "      <td>1,003.20</td>\n",
       "      <td>1,010.70</td>\n",
       "      <td>1,838.00</td>\n",
       "      <td>943.7</td>\n",
       "      <td>3,045,188</td>\n",
       "      <td>3,077,775,990.10</td>\n",
       "      <td>73,534</td>\n",
       "    </tr>\n",
       "    <tr>\n",
       "      <th>2022-07-04</th>\n",
       "      <td>EQ</td>\n",
       "      <td>1,010.70</td>\n",
       "      <td>1,013.80</td>\n",
       "      <td>995.00</td>\n",
       "      <td>1,010.70</td>\n",
       "      <td>1,000.30</td>\n",
       "      <td>999.95</td>\n",
       "      <td>1,000.12</td>\n",
       "      <td>1,838.00</td>\n",
       "      <td>943.7</td>\n",
       "      <td>1,814,322</td>\n",
       "      <td>1,814,541,379.05</td>\n",
       "      <td>50,196</td>\n",
       "    </tr>\n",
       "  </tbody>\n",
       "</table>\n",
       "<p>747 rows × 13 columns</p>\n",
       "</div>"
      ],
      "text/plain": [
       "           series      OPEN      HIGH       LOW  PREV. CLOSE       ltp    \n",
       "Date                                                                      \n",
       "2021-07-01      EQ  1,096.00  1,099.35  1,081.00     1,095.45  1,085.65  \\\n",
       "2021-06-30      EQ  1,088.20  1,105.00  1,083.30     1,088.15  1,096.70   \n",
       "2021-06-29      EQ  1,109.00  1,109.40  1,083.00     1,105.10  1,088.95   \n",
       "2021-06-28      EQ  1,091.00  1,108.00  1,081.10     1,089.50  1,105.05   \n",
       "2021-06-25      EQ  1,087.40  1,103.20  1,077.00     1,080.00  1,085.95   \n",
       "...            ...       ...       ...       ...          ...       ...   \n",
       "2022-07-08      EQ  1,031.00  1,034.70  1,014.55     1,020.75  1,028.50   \n",
       "2022-07-07      EQ  1,020.95  1,026.90  1,016.00     1,009.90  1,021.00   \n",
       "2022-07-06      EQ  1,008.00  1,014.90  1,001.60     1,003.20  1,013.25   \n",
       "2022-07-05      EQ  1,005.00  1,021.90    999.00       999.95  1,003.90   \n",
       "2022-07-04      EQ  1,010.70  1,013.80    995.00     1,010.70  1,000.30   \n",
       "\n",
       "              close      vwap     52W H   52W L     VOLUME             VALUE    \n",
       "Date                                                                            \n",
       "2021-07-01  1,085.15  1,087.08  1,109.40  536.05  1,459,518  1,586,616,040.75  \\\n",
       "2021-06-30  1,095.45  1,096.06  1,109.40  536.05  1,917,370  2,101,552,386.75   \n",
       "2021-06-29  1,088.15  1,095.11  1,109.40  536.05  2,956,332  3,237,521,521.85   \n",
       "2021-06-28  1,105.10  1,097.40  1,108.00  536.05  2,143,755  2,352,551,584.20   \n",
       "2021-06-25  1,089.50  1,090.65  1,103.20  536.05  3,200,049  3,490,121,301.75   \n",
       "...              ...       ...       ...     ...        ...               ...   \n",
       "2022-07-08  1,026.50  1,025.27  1,838.00   943.7  2,841,036  2,912,839,394.40   \n",
       "2022-07-07  1,020.75  1,021.66  1,838.00   943.7  1,901,699  1,942,888,370.90   \n",
       "2022-07-06  1,009.90  1,008.74  1,838.00   943.7  2,188,175  2,207,292,933.95   \n",
       "2022-07-05  1,003.20  1,010.70  1,838.00   943.7  3,045,188  3,077,775,990.10   \n",
       "2022-07-04    999.95  1,000.12  1,838.00   943.7  1,814,322  1,814,541,379.05   \n",
       "\n",
       "           No of trades   \n",
       "Date                      \n",
       "2021-07-01        49,293  \n",
       "2021-06-30        47,775  \n",
       "2021-06-29        64,875  \n",
       "2021-06-28        50,162  \n",
       "2021-06-25        73,477  \n",
       "...                  ...  \n",
       "2022-07-08        82,047  \n",
       "2022-07-07        57,171  \n",
       "2022-07-06        60,372  \n",
       "2022-07-05        73,534  \n",
       "2022-07-04        50,196  \n",
       "\n",
       "[747 rows x 13 columns]"
      ]
     },
     "execution_count": 6,
     "metadata": {},
     "output_type": "execute_result"
    }
   ],
   "source": [
    "data = pd.concat([df1, df2, df3], axis=0)\n",
    "data"
   ]
  },
  {
   "cell_type": "code",
   "execution_count": 7,
   "metadata": {
    "colab": {
     "base_uri": "https://localhost:8080/",
     "height": 455
    },
    "id": "JMLXzbPwPuzX",
    "outputId": "a5d4c6d8-c3fa-416d-b6dd-7ccd6512fb4c"
   },
   "outputs": [
    {
     "data": {
      "text/html": [
       "<div>\n",
       "<style scoped>\n",
       "    .dataframe tbody tr th:only-of-type {\n",
       "        vertical-align: middle;\n",
       "    }\n",
       "\n",
       "    .dataframe tbody tr th {\n",
       "        vertical-align: top;\n",
       "    }\n",
       "\n",
       "    .dataframe thead th {\n",
       "        text-align: right;\n",
       "    }\n",
       "</style>\n",
       "<table border=\"1\" class=\"dataframe\">\n",
       "  <thead>\n",
       "    <tr style=\"text-align: right;\">\n",
       "      <th></th>\n",
       "      <th>series</th>\n",
       "      <th>OPEN</th>\n",
       "      <th>HIGH</th>\n",
       "      <th>LOW</th>\n",
       "      <th>PREV. CLOSE</th>\n",
       "      <th>ltp</th>\n",
       "      <th>close</th>\n",
       "      <th>vwap</th>\n",
       "      <th>52W H</th>\n",
       "      <th>52W L</th>\n",
       "      <th>VOLUME</th>\n",
       "      <th>VALUE</th>\n",
       "      <th>No of trades</th>\n",
       "    </tr>\n",
       "    <tr>\n",
       "      <th>Date</th>\n",
       "      <th></th>\n",
       "      <th></th>\n",
       "      <th></th>\n",
       "      <th></th>\n",
       "      <th></th>\n",
       "      <th></th>\n",
       "      <th></th>\n",
       "      <th></th>\n",
       "      <th></th>\n",
       "      <th></th>\n",
       "      <th></th>\n",
       "      <th></th>\n",
       "      <th></th>\n",
       "    </tr>\n",
       "  </thead>\n",
       "  <tbody>\n",
       "    <tr>\n",
       "      <th>2020-07-01</th>\n",
       "      <td>EQ</td>\n",
       "      <td>544.00</td>\n",
       "      <td>547.35</td>\n",
       "      <td>536.05</td>\n",
       "      <td>543.40</td>\n",
       "      <td>546.75</td>\n",
       "      <td>545.90</td>\n",
       "      <td>542.17</td>\n",
       "      <td>845.90</td>\n",
       "      <td>471.4</td>\n",
       "      <td>3,662,565</td>\n",
       "      <td>1,985,749,688.80</td>\n",
       "      <td>106,942</td>\n",
       "    </tr>\n",
       "    <tr>\n",
       "      <th>2020-07-02</th>\n",
       "      <td>EQ</td>\n",
       "      <td>549.90</td>\n",
       "      <td>562.50</td>\n",
       "      <td>542.50</td>\n",
       "      <td>545.90</td>\n",
       "      <td>562.50</td>\n",
       "      <td>560.85</td>\n",
       "      <td>554.33</td>\n",
       "      <td>845.90</td>\n",
       "      <td>471.4</td>\n",
       "      <td>5,966,758</td>\n",
       "      <td>3,307,566,871.05</td>\n",
       "      <td>156,600</td>\n",
       "    </tr>\n",
       "    <tr>\n",
       "      <th>2020-07-03</th>\n",
       "      <td>EQ</td>\n",
       "      <td>565.90</td>\n",
       "      <td>572.25</td>\n",
       "      <td>561.05</td>\n",
       "      <td>560.85</td>\n",
       "      <td>565.35</td>\n",
       "      <td>567.20</td>\n",
       "      <td>565.93</td>\n",
       "      <td>845.90</td>\n",
       "      <td>471.4</td>\n",
       "      <td>4,007,492</td>\n",
       "      <td>2,267,963,345.30</td>\n",
       "      <td>112,355</td>\n",
       "    </tr>\n",
       "    <tr>\n",
       "      <th>2020-07-04</th>\n",
       "      <td>EQ</td>\n",
       "      <td>565.90</td>\n",
       "      <td>572.25</td>\n",
       "      <td>561.05</td>\n",
       "      <td>560.85</td>\n",
       "      <td>565.35</td>\n",
       "      <td>567.20</td>\n",
       "      <td>565.93</td>\n",
       "      <td>845.90</td>\n",
       "      <td>471.4</td>\n",
       "      <td>4,007,492</td>\n",
       "      <td>2,267,963,345.30</td>\n",
       "      <td>112,355</td>\n",
       "    </tr>\n",
       "    <tr>\n",
       "      <th>2020-07-05</th>\n",
       "      <td>EQ</td>\n",
       "      <td>565.90</td>\n",
       "      <td>572.25</td>\n",
       "      <td>561.05</td>\n",
       "      <td>560.85</td>\n",
       "      <td>565.35</td>\n",
       "      <td>567.20</td>\n",
       "      <td>565.93</td>\n",
       "      <td>845.90</td>\n",
       "      <td>471.4</td>\n",
       "      <td>4,007,492</td>\n",
       "      <td>2,267,963,345.30</td>\n",
       "      <td>112,355</td>\n",
       "    </tr>\n",
       "    <tr>\n",
       "      <th>...</th>\n",
       "      <td>...</td>\n",
       "      <td>...</td>\n",
       "      <td>...</td>\n",
       "      <td>...</td>\n",
       "      <td>...</td>\n",
       "      <td>...</td>\n",
       "      <td>...</td>\n",
       "      <td>...</td>\n",
       "      <td>...</td>\n",
       "      <td>...</td>\n",
       "      <td>...</td>\n",
       "      <td>...</td>\n",
       "      <td>...</td>\n",
       "    </tr>\n",
       "    <tr>\n",
       "      <th>2023-06-26</th>\n",
       "      <td>EQ</td>\n",
       "      <td>1,112.20</td>\n",
       "      <td>1,126.00</td>\n",
       "      <td>1,108.30</td>\n",
       "      <td>1,115.50</td>\n",
       "      <td>1,113.25</td>\n",
       "      <td>1,111.90</td>\n",
       "      <td>1,117.85</td>\n",
       "      <td>1,165.00</td>\n",
       "      <td>965.05</td>\n",
       "      <td>1,432,154</td>\n",
       "      <td>1,600,933,735.00</td>\n",
       "      <td>61,798</td>\n",
       "    </tr>\n",
       "    <tr>\n",
       "      <th>2023-06-27</th>\n",
       "      <td>EQ</td>\n",
       "      <td>1,109.00</td>\n",
       "      <td>1,121.00</td>\n",
       "      <td>1,106.70</td>\n",
       "      <td>1,111.90</td>\n",
       "      <td>1,120.50</td>\n",
       "      <td>1,119.70</td>\n",
       "      <td>1,114.91</td>\n",
       "      <td>1,165.00</td>\n",
       "      <td>965.05</td>\n",
       "      <td>1,227,245</td>\n",
       "      <td>1,368,271,265.75</td>\n",
       "      <td>34,059</td>\n",
       "    </tr>\n",
       "    <tr>\n",
       "      <th>2023-06-28</th>\n",
       "      <td>EQ</td>\n",
       "      <td>1,120.00</td>\n",
       "      <td>1,126.95</td>\n",
       "      <td>1,104.70</td>\n",
       "      <td>1,119.70</td>\n",
       "      <td>1,108.25</td>\n",
       "      <td>1,108.10</td>\n",
       "      <td>1,114.89</td>\n",
       "      <td>1,165.00</td>\n",
       "      <td>965.05</td>\n",
       "      <td>1,876,800</td>\n",
       "      <td>2,092,426,070.10</td>\n",
       "      <td>60,527</td>\n",
       "    </tr>\n",
       "    <tr>\n",
       "      <th>2023-06-29</th>\n",
       "      <td>EQ</td>\n",
       "      <td>1,120.00</td>\n",
       "      <td>1,126.95</td>\n",
       "      <td>1,104.70</td>\n",
       "      <td>1,119.70</td>\n",
       "      <td>1,108.25</td>\n",
       "      <td>1,108.10</td>\n",
       "      <td>1,114.89</td>\n",
       "      <td>1,165.00</td>\n",
       "      <td>965.05</td>\n",
       "      <td>1,876,800</td>\n",
       "      <td>2,092,426,070.10</td>\n",
       "      <td>60,527</td>\n",
       "    </tr>\n",
       "    <tr>\n",
       "      <th>2023-06-30</th>\n",
       "      <td>EQ</td>\n",
       "      <td>1,114.65</td>\n",
       "      <td>1,132.50</td>\n",
       "      <td>1,110.60</td>\n",
       "      <td>1,108.10</td>\n",
       "      <td>1,131.10</td>\n",
       "      <td>1,130.85</td>\n",
       "      <td>1,125.69</td>\n",
       "      <td>1,165.00</td>\n",
       "      <td>965.05</td>\n",
       "      <td>2,478,834</td>\n",
       "      <td>2,790,410,617.70</td>\n",
       "      <td>79,430</td>\n",
       "    </tr>\n",
       "  </tbody>\n",
       "</table>\n",
       "<p>1095 rows × 13 columns</p>\n",
       "</div>"
      ],
      "text/plain": [
       "           series      OPEN      HIGH       LOW  PREV. CLOSE       ltp    \n",
       "Date                                                                      \n",
       "2020-07-01      EQ    544.00    547.35    536.05       543.40    546.75  \\\n",
       "2020-07-02      EQ    549.90    562.50    542.50       545.90    562.50   \n",
       "2020-07-03      EQ    565.90    572.25    561.05       560.85    565.35   \n",
       "2020-07-04      EQ    565.90    572.25    561.05       560.85    565.35   \n",
       "2020-07-05      EQ    565.90    572.25    561.05       560.85    565.35   \n",
       "...            ...       ...       ...       ...          ...       ...   \n",
       "2023-06-26      EQ  1,112.20  1,126.00  1,108.30     1,115.50  1,113.25   \n",
       "2023-06-27      EQ  1,109.00  1,121.00  1,106.70     1,111.90  1,120.50   \n",
       "2023-06-28      EQ  1,120.00  1,126.95  1,104.70     1,119.70  1,108.25   \n",
       "2023-06-29      EQ  1,120.00  1,126.95  1,104.70     1,119.70  1,108.25   \n",
       "2023-06-30      EQ  1,114.65  1,132.50  1,110.60     1,108.10  1,131.10   \n",
       "\n",
       "              close      vwap     52W H   52W L     VOLUME             VALUE    \n",
       "Date                                                                            \n",
       "2020-07-01    545.90    542.17    845.90   471.4  3,662,565  1,985,749,688.80  \\\n",
       "2020-07-02    560.85    554.33    845.90   471.4  5,966,758  3,307,566,871.05   \n",
       "2020-07-03    567.20    565.93    845.90   471.4  4,007,492  2,267,963,345.30   \n",
       "2020-07-04    567.20    565.93    845.90   471.4  4,007,492  2,267,963,345.30   \n",
       "2020-07-05    567.20    565.93    845.90   471.4  4,007,492  2,267,963,345.30   \n",
       "...              ...       ...       ...     ...        ...               ...   \n",
       "2023-06-26  1,111.90  1,117.85  1,165.00  965.05  1,432,154  1,600,933,735.00   \n",
       "2023-06-27  1,119.70  1,114.91  1,165.00  965.05  1,227,245  1,368,271,265.75   \n",
       "2023-06-28  1,108.10  1,114.89  1,165.00  965.05  1,876,800  2,092,426,070.10   \n",
       "2023-06-29  1,108.10  1,114.89  1,165.00  965.05  1,876,800  2,092,426,070.10   \n",
       "2023-06-30  1,130.85  1,125.69  1,165.00  965.05  2,478,834  2,790,410,617.70   \n",
       "\n",
       "           No of trades   \n",
       "Date                      \n",
       "2020-07-01       106,942  \n",
       "2020-07-02       156,600  \n",
       "2020-07-03       112,355  \n",
       "2020-07-04       112,355  \n",
       "2020-07-05       112,355  \n",
       "...                  ...  \n",
       "2023-06-26        61,798  \n",
       "2023-06-27        34,059  \n",
       "2023-06-28        60,527  \n",
       "2023-06-29        60,527  \n",
       "2023-06-30        79,430  \n",
       "\n",
       "[1095 rows x 13 columns]"
      ]
     },
     "execution_count": 7,
     "metadata": {},
     "output_type": "execute_result"
    }
   ],
   "source": [
    "data.sort_index(axis=0)\n",
    "data.isna().sum()\n",
    "data = data.asfreq('D')\n",
    "\n",
    "\n",
    "data = data.sort_index(axis=0)\n",
    "data\n",
    "data.isna().sum()\n",
    "\n",
    "data = data.ffill()\n",
    "\n",
    "data"
   ]
  },
  {
   "cell_type": "markdown",
   "metadata": {
    "id": "IqeP3oigP1Jl"
   },
   "source": [
    "###### Converting datatypes with sutable dtype"
   ]
  },
  {
   "cell_type": "code",
   "execution_count": 8,
   "metadata": {
    "id": "RmAe2Bm6PyI4"
   },
   "outputs": [],
   "source": [
    "# Step 1: Remove any non-numeric characters (e.g., comma) from the all the columns\n",
    "\n",
    "\n",
    "data['close '] = data['close '].str.replace(',','')\n",
    "data['OPEN '] = data['OPEN '].str.replace(',','')\n",
    "data['HIGH '] = data['HIGH '].str.replace(',','')\n",
    "data['LOW '] = data['LOW '].str.replace(',','')\n",
    "data['VOLUME '] = data['VOLUME '].str.replace(',','')\n",
    "\n",
    "# Step 2: Convert the all columns to float datatype using astype()\n",
    "\n",
    "data['close '] = data['close '].astype(float)\n",
    "data['OPEN '] = data['OPEN '].astype(float)\n",
    "data['HIGH '] = data['HIGH '].astype(float)\n",
    "data['LOW '] = data['LOW '].astype(float)\n",
    "data['VOLUME '] = data['VOLUME '].astype(float)"
   ]
  },
  {
   "cell_type": "code",
   "execution_count": 9,
   "metadata": {
    "colab": {
     "base_uri": "https://localhost:8080/"
    },
    "id": "qOFdWmAWP-FT",
    "outputId": "b8aed168-3c12-4b27-9c90-cbf5a56284bd"
   },
   "outputs": [
    {
     "name": "stdout",
     "output_type": "stream",
     "text": [
      "<class 'pandas.core.frame.DataFrame'>\n",
      "DatetimeIndex: 1095 entries, 2020-07-01 to 2023-06-30\n",
      "Freq: D\n",
      "Data columns (total 13 columns):\n",
      " #   Column         Non-Null Count  Dtype  \n",
      "---  ------         --------------  -----  \n",
      " 0   series         1095 non-null   object \n",
      " 1   OPEN           1095 non-null   float64\n",
      " 2   HIGH           1095 non-null   float64\n",
      " 3   LOW            1095 non-null   float64\n",
      " 4   PREV. CLOSE    1095 non-null   object \n",
      " 5   ltp            1095 non-null   object \n",
      " 6   close          1095 non-null   float64\n",
      " 7   vwap           1095 non-null   object \n",
      " 8   52W H          1095 non-null   object \n",
      " 9   52W L          1095 non-null   object \n",
      " 10  VOLUME         1095 non-null   float64\n",
      " 11  VALUE          1095 non-null   object \n",
      " 12  No of trades   1095 non-null   object \n",
      "dtypes: float64(5), object(8)\n",
      "memory usage: 119.8+ KB\n"
     ]
    }
   ],
   "source": [
    "data.info()"
   ]
  },
  {
   "cell_type": "code",
   "execution_count": 10,
   "metadata": {
    "colab": {
     "base_uri": "https://localhost:8080/",
     "height": 237
    },
    "id": "xCbwdsN9QBHd",
    "outputId": "e4bcf86b-5029-4153-f602-3e7ed1fda2b4"
   },
   "outputs": [
    {
     "data": {
      "text/html": [
       "<div>\n",
       "<style scoped>\n",
       "    .dataframe tbody tr th:only-of-type {\n",
       "        vertical-align: middle;\n",
       "    }\n",
       "\n",
       "    .dataframe tbody tr th {\n",
       "        vertical-align: top;\n",
       "    }\n",
       "\n",
       "    .dataframe thead th {\n",
       "        text-align: right;\n",
       "    }\n",
       "</style>\n",
       "<table border=\"1\" class=\"dataframe\">\n",
       "  <thead>\n",
       "    <tr style=\"text-align: right;\">\n",
       "      <th></th>\n",
       "      <th>series</th>\n",
       "      <th>OPEN</th>\n",
       "      <th>HIGH</th>\n",
       "      <th>LOW</th>\n",
       "      <th>PREV. CLOSE</th>\n",
       "      <th>ltp</th>\n",
       "      <th>close</th>\n",
       "      <th>vwap</th>\n",
       "      <th>52W H</th>\n",
       "      <th>52W L</th>\n",
       "      <th>VOLUME</th>\n",
       "      <th>VALUE</th>\n",
       "      <th>No of trades</th>\n",
       "    </tr>\n",
       "    <tr>\n",
       "      <th>Date</th>\n",
       "      <th></th>\n",
       "      <th></th>\n",
       "      <th></th>\n",
       "      <th></th>\n",
       "      <th></th>\n",
       "      <th></th>\n",
       "      <th></th>\n",
       "      <th></th>\n",
       "      <th></th>\n",
       "      <th></th>\n",
       "      <th></th>\n",
       "      <th></th>\n",
       "      <th></th>\n",
       "    </tr>\n",
       "  </thead>\n",
       "  <tbody>\n",
       "    <tr>\n",
       "      <th>2020-07-01</th>\n",
       "      <td>EQ</td>\n",
       "      <td>544.0</td>\n",
       "      <td>547.35</td>\n",
       "      <td>536.05</td>\n",
       "      <td>543.40</td>\n",
       "      <td>546.75</td>\n",
       "      <td>545.90</td>\n",
       "      <td>542.17</td>\n",
       "      <td>845.90</td>\n",
       "      <td>471.4</td>\n",
       "      <td>3662565.0</td>\n",
       "      <td>1,985,749,688.80</td>\n",
       "      <td>106,942</td>\n",
       "    </tr>\n",
       "    <tr>\n",
       "      <th>2020-07-02</th>\n",
       "      <td>EQ</td>\n",
       "      <td>549.9</td>\n",
       "      <td>562.50</td>\n",
       "      <td>542.50</td>\n",
       "      <td>545.90</td>\n",
       "      <td>562.50</td>\n",
       "      <td>560.85</td>\n",
       "      <td>554.33</td>\n",
       "      <td>845.90</td>\n",
       "      <td>471.4</td>\n",
       "      <td>5966758.0</td>\n",
       "      <td>3,307,566,871.05</td>\n",
       "      <td>156,600</td>\n",
       "    </tr>\n",
       "    <tr>\n",
       "      <th>2020-07-03</th>\n",
       "      <td>EQ</td>\n",
       "      <td>565.9</td>\n",
       "      <td>572.25</td>\n",
       "      <td>561.05</td>\n",
       "      <td>560.85</td>\n",
       "      <td>565.35</td>\n",
       "      <td>567.20</td>\n",
       "      <td>565.93</td>\n",
       "      <td>845.90</td>\n",
       "      <td>471.4</td>\n",
       "      <td>4007492.0</td>\n",
       "      <td>2,267,963,345.30</td>\n",
       "      <td>112,355</td>\n",
       "    </tr>\n",
       "    <tr>\n",
       "      <th>2020-07-04</th>\n",
       "      <td>EQ</td>\n",
       "      <td>565.9</td>\n",
       "      <td>572.25</td>\n",
       "      <td>561.05</td>\n",
       "      <td>560.85</td>\n",
       "      <td>565.35</td>\n",
       "      <td>567.20</td>\n",
       "      <td>565.93</td>\n",
       "      <td>845.90</td>\n",
       "      <td>471.4</td>\n",
       "      <td>4007492.0</td>\n",
       "      <td>2,267,963,345.30</td>\n",
       "      <td>112,355</td>\n",
       "    </tr>\n",
       "    <tr>\n",
       "      <th>2020-07-05</th>\n",
       "      <td>EQ</td>\n",
       "      <td>565.9</td>\n",
       "      <td>572.25</td>\n",
       "      <td>561.05</td>\n",
       "      <td>560.85</td>\n",
       "      <td>565.35</td>\n",
       "      <td>567.20</td>\n",
       "      <td>565.93</td>\n",
       "      <td>845.90</td>\n",
       "      <td>471.4</td>\n",
       "      <td>4007492.0</td>\n",
       "      <td>2,267,963,345.30</td>\n",
       "      <td>112,355</td>\n",
       "    </tr>\n",
       "  </tbody>\n",
       "</table>\n",
       "</div>"
      ],
      "text/plain": [
       "           series   OPEN    HIGH     LOW  PREV. CLOSE     ltp   close    \n",
       "Date                                                                     \n",
       "2020-07-01      EQ  544.0  547.35  536.05       543.40  546.75  545.90  \\\n",
       "2020-07-02      EQ  549.9  562.50  542.50       545.90  562.50  560.85   \n",
       "2020-07-03      EQ  565.9  572.25  561.05       560.85  565.35  567.20   \n",
       "2020-07-04      EQ  565.9  572.25  561.05       560.85  565.35  567.20   \n",
       "2020-07-05      EQ  565.9  572.25  561.05       560.85  565.35  567.20   \n",
       "\n",
       "             vwap   52W H  52W L     VOLUME             VALUE  No of trades   \n",
       "Date                                                                          \n",
       "2020-07-01  542.17  845.90  471.4  3662565.0  1,985,749,688.80       106,942  \n",
       "2020-07-02  554.33  845.90  471.4  5966758.0  3,307,566,871.05       156,600  \n",
       "2020-07-03  565.93  845.90  471.4  4007492.0  2,267,963,345.30       112,355  \n",
       "2020-07-04  565.93  845.90  471.4  4007492.0  2,267,963,345.30       112,355  \n",
       "2020-07-05  565.93  845.90  471.4  4007492.0  2,267,963,345.30       112,355  "
      ]
     },
     "execution_count": 10,
     "metadata": {},
     "output_type": "execute_result"
    }
   ],
   "source": [
    "data.head()"
   ]
  },
  {
   "cell_type": "code",
   "execution_count": 11,
   "metadata": {
    "colab": {
     "base_uri": "https://localhost:8080/"
    },
    "id": "ozIGGLHAbX9e",
    "outputId": "c030cbba-9a91-4850-a25e-4221b820ca53"
   },
   "outputs": [
    {
     "data": {
      "text/plain": [
       "Index(['series ', 'OPEN ', 'HIGH ', 'LOW ', 'PREV. CLOSE ', 'ltp ', 'close ',\n",
       "       'vwap ', '52W H ', '52W L ', 'VOLUME ', 'VALUE ', 'No of trades '],\n",
       "      dtype='object')"
      ]
     },
     "execution_count": 11,
     "metadata": {},
     "output_type": "execute_result"
    }
   ],
   "source": [
    "data.columns"
   ]
  },
  {
   "cell_type": "code",
   "execution_count": 12,
   "metadata": {
    "id": "E01VK16Ek0Zg"
   },
   "outputs": [],
   "source": [
    "data.reset_index(inplace=True)\n",
    "data.rename(columns={'index': 'Date'}, inplace=True)"
   ]
  },
  {
   "cell_type": "code",
   "execution_count": 13,
   "metadata": {
    "colab": {
     "base_uri": "https://localhost:8080/"
    },
    "id": "lEMFUsWnsQvC",
    "outputId": "6b67868f-8ee7-45ed-9b5e-ea9d435880c4"
   },
   "outputs": [
    {
     "data": {
      "text/plain": [
       "Index(['Date ', 'series ', 'OPEN ', 'HIGH ', 'LOW ', 'PREV. CLOSE ', 'ltp ',\n",
       "       'close ', 'vwap ', '52W H ', '52W L ', 'VOLUME ', 'VALUE ',\n",
       "       'No of trades '],\n",
       "      dtype='object')"
      ]
     },
     "execution_count": 13,
     "metadata": {},
     "output_type": "execute_result"
    }
   ],
   "source": [
    "data.columns"
   ]
  },
  {
   "cell_type": "code",
   "execution_count": 14,
   "metadata": {
    "colab": {
     "base_uri": "https://localhost:8080/",
     "height": 467
    },
    "id": "5XmyF04rsUuy",
    "outputId": "b22c501d-a27c-4623-bfdb-64af222de3a7"
   },
   "outputs": [
    {
     "data": {
      "text/html": [
       "<div>\n",
       "<style scoped>\n",
       "    .dataframe tbody tr th:only-of-type {\n",
       "        vertical-align: middle;\n",
       "    }\n",
       "\n",
       "    .dataframe tbody tr th {\n",
       "        vertical-align: top;\n",
       "    }\n",
       "\n",
       "    .dataframe thead th {\n",
       "        text-align: right;\n",
       "    }\n",
       "</style>\n",
       "<table border=\"1\" class=\"dataframe\">\n",
       "  <thead>\n",
       "    <tr style=\"text-align: right;\">\n",
       "      <th></th>\n",
       "      <th>Date</th>\n",
       "      <th>series</th>\n",
       "      <th>OPEN</th>\n",
       "      <th>HIGH</th>\n",
       "      <th>LOW</th>\n",
       "      <th>PREV. CLOSE</th>\n",
       "      <th>ltp</th>\n",
       "      <th>close</th>\n",
       "      <th>vwap</th>\n",
       "      <th>52W H</th>\n",
       "      <th>52W L</th>\n",
       "      <th>VOLUME</th>\n",
       "      <th>VALUE</th>\n",
       "      <th>No of trades</th>\n",
       "    </tr>\n",
       "  </thead>\n",
       "  <tbody>\n",
       "    <tr>\n",
       "      <th>0</th>\n",
       "      <td>2020-07-01</td>\n",
       "      <td>EQ</td>\n",
       "      <td>544.00</td>\n",
       "      <td>547.35</td>\n",
       "      <td>536.05</td>\n",
       "      <td>543.40</td>\n",
       "      <td>546.75</td>\n",
       "      <td>545.90</td>\n",
       "      <td>542.17</td>\n",
       "      <td>845.90</td>\n",
       "      <td>471.4</td>\n",
       "      <td>3662565.0</td>\n",
       "      <td>1,985,749,688.80</td>\n",
       "      <td>106,942</td>\n",
       "    </tr>\n",
       "    <tr>\n",
       "      <th>1</th>\n",
       "      <td>2020-07-02</td>\n",
       "      <td>EQ</td>\n",
       "      <td>549.90</td>\n",
       "      <td>562.50</td>\n",
       "      <td>542.50</td>\n",
       "      <td>545.90</td>\n",
       "      <td>562.50</td>\n",
       "      <td>560.85</td>\n",
       "      <td>554.33</td>\n",
       "      <td>845.90</td>\n",
       "      <td>471.4</td>\n",
       "      <td>5966758.0</td>\n",
       "      <td>3,307,566,871.05</td>\n",
       "      <td>156,600</td>\n",
       "    </tr>\n",
       "    <tr>\n",
       "      <th>2</th>\n",
       "      <td>2020-07-03</td>\n",
       "      <td>EQ</td>\n",
       "      <td>565.90</td>\n",
       "      <td>572.25</td>\n",
       "      <td>561.05</td>\n",
       "      <td>560.85</td>\n",
       "      <td>565.35</td>\n",
       "      <td>567.20</td>\n",
       "      <td>565.93</td>\n",
       "      <td>845.90</td>\n",
       "      <td>471.4</td>\n",
       "      <td>4007492.0</td>\n",
       "      <td>2,267,963,345.30</td>\n",
       "      <td>112,355</td>\n",
       "    </tr>\n",
       "    <tr>\n",
       "      <th>3</th>\n",
       "      <td>2020-07-04</td>\n",
       "      <td>EQ</td>\n",
       "      <td>565.90</td>\n",
       "      <td>572.25</td>\n",
       "      <td>561.05</td>\n",
       "      <td>560.85</td>\n",
       "      <td>565.35</td>\n",
       "      <td>567.20</td>\n",
       "      <td>565.93</td>\n",
       "      <td>845.90</td>\n",
       "      <td>471.4</td>\n",
       "      <td>4007492.0</td>\n",
       "      <td>2,267,963,345.30</td>\n",
       "      <td>112,355</td>\n",
       "    </tr>\n",
       "    <tr>\n",
       "      <th>4</th>\n",
       "      <td>2020-07-05</td>\n",
       "      <td>EQ</td>\n",
       "      <td>565.90</td>\n",
       "      <td>572.25</td>\n",
       "      <td>561.05</td>\n",
       "      <td>560.85</td>\n",
       "      <td>565.35</td>\n",
       "      <td>567.20</td>\n",
       "      <td>565.93</td>\n",
       "      <td>845.90</td>\n",
       "      <td>471.4</td>\n",
       "      <td>4007492.0</td>\n",
       "      <td>2,267,963,345.30</td>\n",
       "      <td>112,355</td>\n",
       "    </tr>\n",
       "    <tr>\n",
       "      <th>...</th>\n",
       "      <td>...</td>\n",
       "      <td>...</td>\n",
       "      <td>...</td>\n",
       "      <td>...</td>\n",
       "      <td>...</td>\n",
       "      <td>...</td>\n",
       "      <td>...</td>\n",
       "      <td>...</td>\n",
       "      <td>...</td>\n",
       "      <td>...</td>\n",
       "      <td>...</td>\n",
       "      <td>...</td>\n",
       "      <td>...</td>\n",
       "      <td>...</td>\n",
       "    </tr>\n",
       "    <tr>\n",
       "      <th>1090</th>\n",
       "      <td>2023-06-26</td>\n",
       "      <td>EQ</td>\n",
       "      <td>1112.20</td>\n",
       "      <td>1126.00</td>\n",
       "      <td>1108.30</td>\n",
       "      <td>1,115.50</td>\n",
       "      <td>1,113.25</td>\n",
       "      <td>1111.90</td>\n",
       "      <td>1,117.85</td>\n",
       "      <td>1,165.00</td>\n",
       "      <td>965.05</td>\n",
       "      <td>1432154.0</td>\n",
       "      <td>1,600,933,735.00</td>\n",
       "      <td>61,798</td>\n",
       "    </tr>\n",
       "    <tr>\n",
       "      <th>1091</th>\n",
       "      <td>2023-06-27</td>\n",
       "      <td>EQ</td>\n",
       "      <td>1109.00</td>\n",
       "      <td>1121.00</td>\n",
       "      <td>1106.70</td>\n",
       "      <td>1,111.90</td>\n",
       "      <td>1,120.50</td>\n",
       "      <td>1119.70</td>\n",
       "      <td>1,114.91</td>\n",
       "      <td>1,165.00</td>\n",
       "      <td>965.05</td>\n",
       "      <td>1227245.0</td>\n",
       "      <td>1,368,271,265.75</td>\n",
       "      <td>34,059</td>\n",
       "    </tr>\n",
       "    <tr>\n",
       "      <th>1092</th>\n",
       "      <td>2023-06-28</td>\n",
       "      <td>EQ</td>\n",
       "      <td>1120.00</td>\n",
       "      <td>1126.95</td>\n",
       "      <td>1104.70</td>\n",
       "      <td>1,119.70</td>\n",
       "      <td>1,108.25</td>\n",
       "      <td>1108.10</td>\n",
       "      <td>1,114.89</td>\n",
       "      <td>1,165.00</td>\n",
       "      <td>965.05</td>\n",
       "      <td>1876800.0</td>\n",
       "      <td>2,092,426,070.10</td>\n",
       "      <td>60,527</td>\n",
       "    </tr>\n",
       "    <tr>\n",
       "      <th>1093</th>\n",
       "      <td>2023-06-29</td>\n",
       "      <td>EQ</td>\n",
       "      <td>1120.00</td>\n",
       "      <td>1126.95</td>\n",
       "      <td>1104.70</td>\n",
       "      <td>1,119.70</td>\n",
       "      <td>1,108.25</td>\n",
       "      <td>1108.10</td>\n",
       "      <td>1,114.89</td>\n",
       "      <td>1,165.00</td>\n",
       "      <td>965.05</td>\n",
       "      <td>1876800.0</td>\n",
       "      <td>2,092,426,070.10</td>\n",
       "      <td>60,527</td>\n",
       "    </tr>\n",
       "    <tr>\n",
       "      <th>1094</th>\n",
       "      <td>2023-06-30</td>\n",
       "      <td>EQ</td>\n",
       "      <td>1114.65</td>\n",
       "      <td>1132.50</td>\n",
       "      <td>1110.60</td>\n",
       "      <td>1,108.10</td>\n",
       "      <td>1,131.10</td>\n",
       "      <td>1130.85</td>\n",
       "      <td>1,125.69</td>\n",
       "      <td>1,165.00</td>\n",
       "      <td>965.05</td>\n",
       "      <td>2478834.0</td>\n",
       "      <td>2,790,410,617.70</td>\n",
       "      <td>79,430</td>\n",
       "    </tr>\n",
       "  </tbody>\n",
       "</table>\n",
       "<p>1095 rows × 14 columns</p>\n",
       "</div>"
      ],
      "text/plain": [
       "          Date  series     OPEN     HIGH      LOW  PREV. CLOSE       ltp    \n",
       "0    2020-07-01      EQ   544.00   547.35   536.05       543.40    546.75  \\\n",
       "1    2020-07-02      EQ   549.90   562.50   542.50       545.90    562.50   \n",
       "2    2020-07-03      EQ   565.90   572.25   561.05       560.85    565.35   \n",
       "3    2020-07-04      EQ   565.90   572.25   561.05       560.85    565.35   \n",
       "4    2020-07-05      EQ   565.90   572.25   561.05       560.85    565.35   \n",
       "...         ...     ...      ...      ...      ...          ...       ...   \n",
       "1090 2023-06-26      EQ  1112.20  1126.00  1108.30     1,115.50  1,113.25   \n",
       "1091 2023-06-27      EQ  1109.00  1121.00  1106.70     1,111.90  1,120.50   \n",
       "1092 2023-06-28      EQ  1120.00  1126.95  1104.70     1,119.70  1,108.25   \n",
       "1093 2023-06-29      EQ  1120.00  1126.95  1104.70     1,119.70  1,108.25   \n",
       "1094 2023-06-30      EQ  1114.65  1132.50  1110.60     1,108.10  1,131.10   \n",
       "\n",
       "       close      vwap     52W H   52W L     VOLUME             VALUE    \n",
       "0      545.90    542.17    845.90   471.4  3662565.0  1,985,749,688.80  \\\n",
       "1      560.85    554.33    845.90   471.4  5966758.0  3,307,566,871.05   \n",
       "2      567.20    565.93    845.90   471.4  4007492.0  2,267,963,345.30   \n",
       "3      567.20    565.93    845.90   471.4  4007492.0  2,267,963,345.30   \n",
       "4      567.20    565.93    845.90   471.4  4007492.0  2,267,963,345.30   \n",
       "...       ...       ...       ...     ...        ...               ...   \n",
       "1090  1111.90  1,117.85  1,165.00  965.05  1432154.0  1,600,933,735.00   \n",
       "1091  1119.70  1,114.91  1,165.00  965.05  1227245.0  1,368,271,265.75   \n",
       "1092  1108.10  1,114.89  1,165.00  965.05  1876800.0  2,092,426,070.10   \n",
       "1093  1108.10  1,114.89  1,165.00  965.05  1876800.0  2,092,426,070.10   \n",
       "1094  1130.85  1,125.69  1,165.00  965.05  2478834.0  2,790,410,617.70   \n",
       "\n",
       "     No of trades   \n",
       "0          106,942  \n",
       "1          156,600  \n",
       "2          112,355  \n",
       "3          112,355  \n",
       "4          112,355  \n",
       "...            ...  \n",
       "1090        61,798  \n",
       "1091        34,059  \n",
       "1092        60,527  \n",
       "1093        60,527  \n",
       "1094        79,430  \n",
       "\n",
       "[1095 rows x 14 columns]"
      ]
     },
     "execution_count": 14,
     "metadata": {},
     "output_type": "execute_result"
    }
   ],
   "source": [
    "data"
   ]
  },
  {
   "cell_type": "code",
   "execution_count": 15,
   "metadata": {
    "colab": {
     "base_uri": "https://localhost:8080/",
     "height": 423
    },
    "id": "tNYBr_R8Q8uy",
    "outputId": "bf725d6b-cd99-4d6d-a9cf-8a0b78ba2b07"
   },
   "outputs": [
    {
     "data": {
      "text/html": [
       "<div>\n",
       "<style scoped>\n",
       "    .dataframe tbody tr th:only-of-type {\n",
       "        vertical-align: middle;\n",
       "    }\n",
       "\n",
       "    .dataframe tbody tr th {\n",
       "        vertical-align: top;\n",
       "    }\n",
       "\n",
       "    .dataframe thead th {\n",
       "        text-align: right;\n",
       "    }\n",
       "</style>\n",
       "<table border=\"1\" class=\"dataframe\">\n",
       "  <thead>\n",
       "    <tr style=\"text-align: right;\">\n",
       "      <th></th>\n",
       "      <th>Date</th>\n",
       "      <th>close</th>\n",
       "    </tr>\n",
       "  </thead>\n",
       "  <tbody>\n",
       "    <tr>\n",
       "      <th>0</th>\n",
       "      <td>2020-07-01</td>\n",
       "      <td>545.90</td>\n",
       "    </tr>\n",
       "    <tr>\n",
       "      <th>1</th>\n",
       "      <td>2020-07-02</td>\n",
       "      <td>560.85</td>\n",
       "    </tr>\n",
       "    <tr>\n",
       "      <th>2</th>\n",
       "      <td>2020-07-03</td>\n",
       "      <td>567.20</td>\n",
       "    </tr>\n",
       "    <tr>\n",
       "      <th>3</th>\n",
       "      <td>2020-07-04</td>\n",
       "      <td>567.20</td>\n",
       "    </tr>\n",
       "    <tr>\n",
       "      <th>4</th>\n",
       "      <td>2020-07-05</td>\n",
       "      <td>567.20</td>\n",
       "    </tr>\n",
       "    <tr>\n",
       "      <th>...</th>\n",
       "      <td>...</td>\n",
       "      <td>...</td>\n",
       "    </tr>\n",
       "    <tr>\n",
       "      <th>1090</th>\n",
       "      <td>2023-06-26</td>\n",
       "      <td>1111.90</td>\n",
       "    </tr>\n",
       "    <tr>\n",
       "      <th>1091</th>\n",
       "      <td>2023-06-27</td>\n",
       "      <td>1119.70</td>\n",
       "    </tr>\n",
       "    <tr>\n",
       "      <th>1092</th>\n",
       "      <td>2023-06-28</td>\n",
       "      <td>1108.10</td>\n",
       "    </tr>\n",
       "    <tr>\n",
       "      <th>1093</th>\n",
       "      <td>2023-06-29</td>\n",
       "      <td>1108.10</td>\n",
       "    </tr>\n",
       "    <tr>\n",
       "      <th>1094</th>\n",
       "      <td>2023-06-30</td>\n",
       "      <td>1130.85</td>\n",
       "    </tr>\n",
       "  </tbody>\n",
       "</table>\n",
       "<p>1095 rows × 2 columns</p>\n",
       "</div>"
      ],
      "text/plain": [
       "          Date    close \n",
       "0    2020-07-01   545.90\n",
       "1    2020-07-02   560.85\n",
       "2    2020-07-03   567.20\n",
       "3    2020-07-04   567.20\n",
       "4    2020-07-05   567.20\n",
       "...         ...      ...\n",
       "1090 2023-06-26  1111.90\n",
       "1091 2023-06-27  1119.70\n",
       "1092 2023-06-28  1108.10\n",
       "1093 2023-06-29  1108.10\n",
       "1094 2023-06-30  1130.85\n",
       "\n",
       "[1095 rows x 2 columns]"
      ]
     },
     "execution_count": 15,
     "metadata": {},
     "output_type": "execute_result"
    }
   ],
   "source": [
    "data  = data[['Date ', 'close ']]\n",
    "data"
   ]
  },
  {
   "cell_type": "markdown",
   "metadata": {
    "id": "dkBLOcxZZN8P"
   },
   "source": [
    "### Change the column name"
   ]
  },
  {
   "cell_type": "code",
   "execution_count": 16,
   "metadata": {
    "colab": {
     "base_uri": "https://localhost:8080/",
     "height": 206
    },
    "id": "DUh5lgn-QIlX",
    "outputId": "a536242b-025d-4ac8-cb83-34441f4475ba"
   },
   "outputs": [
    {
     "data": {
      "text/html": [
       "<div>\n",
       "<style scoped>\n",
       "    .dataframe tbody tr th:only-of-type {\n",
       "        vertical-align: middle;\n",
       "    }\n",
       "\n",
       "    .dataframe tbody tr th {\n",
       "        vertical-align: top;\n",
       "    }\n",
       "\n",
       "    .dataframe thead th {\n",
       "        text-align: right;\n",
       "    }\n",
       "</style>\n",
       "<table border=\"1\" class=\"dataframe\">\n",
       "  <thead>\n",
       "    <tr style=\"text-align: right;\">\n",
       "      <th></th>\n",
       "      <th>ds</th>\n",
       "      <th>y</th>\n",
       "    </tr>\n",
       "  </thead>\n",
       "  <tbody>\n",
       "    <tr>\n",
       "      <th>0</th>\n",
       "      <td>2020-07-01</td>\n",
       "      <td>545.90</td>\n",
       "    </tr>\n",
       "    <tr>\n",
       "      <th>1</th>\n",
       "      <td>2020-07-02</td>\n",
       "      <td>560.85</td>\n",
       "    </tr>\n",
       "    <tr>\n",
       "      <th>2</th>\n",
       "      <td>2020-07-03</td>\n",
       "      <td>567.20</td>\n",
       "    </tr>\n",
       "    <tr>\n",
       "      <th>3</th>\n",
       "      <td>2020-07-04</td>\n",
       "      <td>567.20</td>\n",
       "    </tr>\n",
       "    <tr>\n",
       "      <th>4</th>\n",
       "      <td>2020-07-05</td>\n",
       "      <td>567.20</td>\n",
       "    </tr>\n",
       "  </tbody>\n",
       "</table>\n",
       "</div>"
      ],
      "text/plain": [
       "          ds       y\n",
       "0 2020-07-01  545.90\n",
       "1 2020-07-02  560.85\n",
       "2 2020-07-03  567.20\n",
       "3 2020-07-04  567.20\n",
       "4 2020-07-05  567.20"
      ]
     },
     "execution_count": 16,
     "metadata": {},
     "output_type": "execute_result"
    }
   ],
   "source": [
    "data.columns = ['ds', 'y']\n",
    "data.head()"
   ]
  },
  {
   "cell_type": "code",
   "execution_count": 17,
   "metadata": {
    "colab": {
     "base_uri": "https://localhost:8080/"
    },
    "id": "txfpgcskQOgt",
    "outputId": "ff9efe19-c9da-4765-d7dc-fc310a75790d"
   },
   "outputs": [
    {
     "data": {
      "text/plain": [
       "ds    0\n",
       "y     0\n",
       "dtype: int64"
      ]
     },
     "execution_count": 17,
     "metadata": {},
     "output_type": "execute_result"
    }
   ],
   "source": [
    "data.isna().sum()"
   ]
  },
  {
   "cell_type": "code",
   "execution_count": 18,
   "metadata": {
    "colab": {
     "base_uri": "https://localhost:8080/",
     "height": 345
    },
    "id": "b9h871oEc-J1",
    "outputId": "7dcaec8a-d13c-4aaa-9dfd-a7e96d842866"
   },
   "outputs": [],
   "source": [
    "# data['ds']=pd.to_datetime(data['ds']) # coverting date column into actual date column so that pandas can understand these are the actual date column\n",
    "# data.tail()"
   ]
  },
  {
   "cell_type": "markdown",
   "metadata": {
    "id": "8lS1adhsdibJ"
   },
   "source": [
    "###### Plot the dataset"
   ]
  },
  {
   "cell_type": "code",
   "execution_count": 19,
   "metadata": {
    "colab": {
     "base_uri": "https://localhost:8080/",
     "height": 421
    },
    "id": "JB7Z9WZfc-OZ",
    "outputId": "90dc28ad-21fe-4982-a69f-21a05712456e"
   },
   "outputs": [
    {
     "data": {
      "text/plain": [
       "<Axes: xlabel='ds'>"
      ]
     },
     "execution_count": 19,
     "metadata": {},
     "output_type": "execute_result"
    },
    {
     "data": {
      "image/png": "[encoded data removed]",
      "text/plain": [
       "<Figure size 1200x400 with 1 Axes>"
      ]
     },
     "metadata": {},
     "output_type": "display_data"
    }
   ],
   "source": [
    "data.plot(x='ds', y='y', figsize=(12,4))"
   ]
  },
  {
   "cell_type": "code",
   "execution_count": 20,
   "metadata": {
    "colab": {
     "base_uri": "https://localhost:8080/"
    },
    "id": "RRceOBLGc-RC",
    "outputId": "9563269d-a4f6-474d-baf7-d403e24ed50f"
   },
   "outputs": [
    {
     "data": {
      "text/plain": [
       "1095"
      ]
     },
     "execution_count": 20,
     "metadata": {},
     "output_type": "execute_result"
    }
   ],
   "source": [
    "len(data)"
   ]
  },
  {
   "cell_type": "markdown",
   "metadata": {
    "id": "D6BLbvW8eF5W"
   },
   "source": [
    "### Train , Test , Split"
   ]
  },
  {
   "cell_type": "code",
   "execution_count": 21,
   "metadata": {
    "id": "Re4UGQJlc-Vs"
   },
   "outputs": [],
   "source": [
    "train = data.iloc[:len(data)-365]\n",
    "test = data.iloc[len(data)-365:]"
   ]
  },
  {
   "cell_type": "code",
   "execution_count": 22,
   "metadata": {},
   "outputs": [
    {
     "name": "stdout",
     "output_type": "stream",
     "text": [
      "(730, 2) (365, 2)\n"
     ]
    }
   ],
   "source": [
    "print(train.shape, test.shape)"
   ]
  },
  {
   "cell_type": "markdown",
   "metadata": {
    "id": "sCdwmLWVeVn1"
   },
   "source": [
    "### Start Making Prediction"
   ]
  },
  {
   "cell_type": "code",
   "execution_count": 23,
   "metadata": {
    "colab": {
     "base_uri": "https://localhost:8080/"
    },
    "id": "OF8zmLdsc-YE",
    "outputId": "9861b18a-b05d-4a6c-dc0b-aae7c243aec1"
   },
   "outputs": [],
   "source": [
    "m = Prophet() # initialize the model"
   ]
  },
  {
   "cell_type": "code",
   "execution_count": 24,
   "metadata": {
    "scrolled": true
   },
   "outputs": [
    {
     "name": "stderr",
     "output_type": "stream",
     "text": [
      "12:09:59 - cmdstanpy - INFO - Chain [1] start processing\n",
      "12:10:02 - cmdstanpy - INFO - Chain [1] done processing\n",
      "12:10:02 - cmdstanpy - ERROR - Chain [1] error: terminated by signal 3221225657 \n",
      "Optimization terminated abnormally. Falling back to Newton.\n",
      "12:10:02 - cmdstanpy - INFO - Chain [1] start processing\n",
      "12:10:02 - cmdstanpy - INFO - Chain [1] done processing\n",
      "12:10:02 - cmdstanpy - ERROR - Chain [1] error: terminated by signal 3221225657 \n"
     ]
    },
    {
     "ename": "RuntimeError",
     "evalue": "Error during optimization! Command 'C:\\Users\\Digvijay Mohite\\AppData\\Local\\Programs\\Python\\Python311\\Lib\\site-packages\\prophet\\stan_model\\prophet_model.bin random seed=34212 data file=C:\\Users\\DIGVIJ~1\\AppData\\Local\\Temp\\tmpazl05q34\\abso8h9s.json init=C:\\Users\\DIGVIJ~1\\AppData\\Local\\Temp\\tmpazl05q34\\pg5ef902.json output file=C:\\Users\\DIGVIJ~1\\AppData\\Local\\Temp\\tmpazl05q34\\prophet_model7bphy14j\\prophet_model-20230706121002.csv method=optimize algorithm=newton iter=10000' failed: ",
     "output_type": "error",
     "traceback": [
      "\u001b[1;31m---------------------------------------------------------------------------\u001b[0m",
      "\u001b[1;31mRuntimeError\u001b[0m                              Traceback (most recent call last)",
      "File \u001b[1;32m~\\AppData\\Local\\Programs\\Python\\Python311\\Lib\\site-packages\\prophet\\models.py:90\u001b[0m, in \u001b[0;36mCmdStanPyBackend.fit\u001b[1;34m(self, stan_init, stan_data, **kwargs)\u001b[0m\n\u001b[0;32m     89\u001b[0m \u001b[38;5;28;01mtry\u001b[39;00m:\n\u001b[1;32m---> 90\u001b[0m     \u001b[38;5;28mself\u001b[39m\u001b[38;5;241m.\u001b[39mstan_fit \u001b[38;5;241m=\u001b[39m \u001b[38;5;28;43mself\u001b[39;49m\u001b[38;5;241;43m.\u001b[39;49m\u001b[43mmodel\u001b[49m\u001b[38;5;241;43m.\u001b[39;49m\u001b[43moptimize\u001b[49m\u001b[43m(\u001b[49m\u001b[38;5;241;43m*\u001b[39;49m\u001b[38;5;241;43m*\u001b[39;49m\u001b[43margs\u001b[49m\u001b[43m)\u001b[49m\n\u001b[0;32m     91\u001b[0m \u001b[38;5;28;01mexcept\u001b[39;00m \u001b[38;5;167;01mRuntimeError\u001b[39;00m \u001b[38;5;28;01mas\u001b[39;00m e:\n\u001b[0;32m     92\u001b[0m     \u001b[38;5;66;03m# Fall back on Newton\u001b[39;00m\n",
      "File \u001b[1;32m~\\AppData\\Local\\Programs\\Python\\Python311\\Lib\\site-packages\\cmdstanpy\\model.py:738\u001b[0m, in \u001b[0;36mCmdStanModel.optimize\u001b[1;34m(self, data, seed, inits, output_dir, sig_figs, save_profile, algorithm, init_alpha, tol_obj, tol_rel_obj, tol_grad, tol_rel_grad, tol_param, history_size, iter, save_iterations, require_converged, show_console, refresh, time_fmt, timeout)\u001b[0m\n\u001b[0;32m    737\u001b[0m     \u001b[38;5;28;01melse\u001b[39;00m:\n\u001b[1;32m--> 738\u001b[0m         \u001b[38;5;28;01mraise\u001b[39;00m \u001b[38;5;167;01mRuntimeError\u001b[39;00m(msg)\n\u001b[0;32m    739\u001b[0m mle \u001b[38;5;241m=\u001b[39m CmdStanMLE(runset)\n",
      "\u001b[1;31mRuntimeError\u001b[0m: Error during optimization! Command 'C:\\Users\\Digvijay Mohite\\AppData\\Local\\Programs\\Python\\Python311\\Lib\\site-packages\\prophet\\stan_model\\prophet_model.bin random seed=40997 data file=C:\\Users\\DIGVIJ~1\\AppData\\Local\\Temp\\tmpazl05q34\\9rokkmvh.json init=C:\\Users\\DIGVIJ~1\\AppData\\Local\\Temp\\tmpazl05q34\\mi5q4f2i.json output file=C:\\Users\\DIGVIJ~1\\AppData\\Local\\Temp\\tmpazl05q34\\prophet_modelkrn7mz6v\\prophet_model-20230706120959.csv method=optimize algorithm=lbfgs iter=10000' failed: ",
      "\nDuring handling of the above exception, another exception occurred:\n",
      "\u001b[1;31mRuntimeError\u001b[0m                              Traceback (most recent call last)",
      "Cell \u001b[1;32mIn[24], line 1\u001b[0m\n\u001b[1;32m----> 1\u001b[0m \u001b[43mm\u001b[49m\u001b[38;5;241;43m.\u001b[39;49m\u001b[43mfit\u001b[49m\u001b[43m(\u001b[49m\u001b[43mtrain\u001b[49m\u001b[43m)\u001b[49m \u001b[38;5;66;03m# fit to training data\u001b[39;00m\n",
      "File \u001b[1;32m~\\AppData\\Local\\Programs\\Python\\Python311\\Lib\\site-packages\\prophet\\forecaster.py:1181\u001b[0m, in \u001b[0;36mProphet.fit\u001b[1;34m(self, df, **kwargs)\u001b[0m\n\u001b[0;32m   1179\u001b[0m     \u001b[38;5;28mself\u001b[39m\u001b[38;5;241m.\u001b[39mparams \u001b[38;5;241m=\u001b[39m \u001b[38;5;28mself\u001b[39m\u001b[38;5;241m.\u001b[39mstan_backend\u001b[38;5;241m.\u001b[39msampling(stan_init, dat, \u001b[38;5;28mself\u001b[39m\u001b[38;5;241m.\u001b[39mmcmc_samples, \u001b[38;5;241m*\u001b[39m\u001b[38;5;241m*\u001b[39mkwargs)\n\u001b[0;32m   1180\u001b[0m \u001b[38;5;28;01melse\u001b[39;00m:\n\u001b[1;32m-> 1181\u001b[0m     \u001b[38;5;28mself\u001b[39m\u001b[38;5;241m.\u001b[39mparams \u001b[38;5;241m=\u001b[39m \u001b[38;5;28;43mself\u001b[39;49m\u001b[38;5;241;43m.\u001b[39;49m\u001b[43mstan_backend\u001b[49m\u001b[38;5;241;43m.\u001b[39;49m\u001b[43mfit\u001b[49m\u001b[43m(\u001b[49m\u001b[43mstan_init\u001b[49m\u001b[43m,\u001b[49m\u001b[43m \u001b[49m\u001b[43mdat\u001b[49m\u001b[43m,\u001b[49m\u001b[43m \u001b[49m\u001b[38;5;241;43m*\u001b[39;49m\u001b[38;5;241;43m*\u001b[39;49m\u001b[43mkwargs\u001b[49m\u001b[43m)\u001b[49m\n\u001b[0;32m   1183\u001b[0m \u001b[38;5;28mself\u001b[39m\u001b[38;5;241m.\u001b[39mstan_fit \u001b[38;5;241m=\u001b[39m \u001b[38;5;28mself\u001b[39m\u001b[38;5;241m.\u001b[39mstan_backend\u001b[38;5;241m.\u001b[39mstan_fit\n\u001b[0;32m   1184\u001b[0m \u001b[38;5;66;03m# If no changepoints were requested, replace delta with 0s\u001b[39;00m\n",
      "File \u001b[1;32m~\\AppData\\Local\\Programs\\Python\\Python311\\Lib\\site-packages\\prophet\\models.py:97\u001b[0m, in \u001b[0;36mCmdStanPyBackend.fit\u001b[1;34m(self, stan_init, stan_data, **kwargs)\u001b[0m\n\u001b[0;32m     95\u001b[0m     logger\u001b[38;5;241m.\u001b[39mwarning(\u001b[38;5;124m'\u001b[39m\u001b[38;5;124mOptimization terminated abnormally. Falling back to Newton.\u001b[39m\u001b[38;5;124m'\u001b[39m)\n\u001b[0;32m     96\u001b[0m     args[\u001b[38;5;124m'\u001b[39m\u001b[38;5;124malgorithm\u001b[39m\u001b[38;5;124m'\u001b[39m] \u001b[38;5;241m=\u001b[39m \u001b[38;5;124m'\u001b[39m\u001b[38;5;124mNewton\u001b[39m\u001b[38;5;124m'\u001b[39m\n\u001b[1;32m---> 97\u001b[0m     \u001b[38;5;28mself\u001b[39m\u001b[38;5;241m.\u001b[39mstan_fit \u001b[38;5;241m=\u001b[39m \u001b[38;5;28;43mself\u001b[39;49m\u001b[38;5;241;43m.\u001b[39;49m\u001b[43mmodel\u001b[49m\u001b[38;5;241;43m.\u001b[39;49m\u001b[43moptimize\u001b[49m\u001b[43m(\u001b[49m\u001b[38;5;241;43m*\u001b[39;49m\u001b[38;5;241;43m*\u001b[39;49m\u001b[43margs\u001b[49m\u001b[43m)\u001b[49m\n\u001b[0;32m     98\u001b[0m params \u001b[38;5;241m=\u001b[39m \u001b[38;5;28mself\u001b[39m\u001b[38;5;241m.\u001b[39mstan_to_dict_numpy(\n\u001b[0;32m     99\u001b[0m     \u001b[38;5;28mself\u001b[39m\u001b[38;5;241m.\u001b[39mstan_fit\u001b[38;5;241m.\u001b[39mcolumn_names, \u001b[38;5;28mself\u001b[39m\u001b[38;5;241m.\u001b[39mstan_fit\u001b[38;5;241m.\u001b[39moptimized_params_np)\n\u001b[0;32m    100\u001b[0m \u001b[38;5;28;01mfor\u001b[39;00m par \u001b[38;5;129;01min\u001b[39;00m params:\n",
      "File \u001b[1;32m~\\AppData\\Local\\Programs\\Python\\Python311\\Lib\\site-packages\\cmdstanpy\\model.py:738\u001b[0m, in \u001b[0;36mCmdStanModel.optimize\u001b[1;34m(self, data, seed, inits, output_dir, sig_figs, save_profile, algorithm, init_alpha, tol_obj, tol_rel_obj, tol_grad, tol_rel_grad, tol_param, history_size, iter, save_iterations, require_converged, show_console, refresh, time_fmt, timeout)\u001b[0m\n\u001b[0;32m    736\u001b[0m         get_logger()\u001b[38;5;241m.\u001b[39mwarning(msg)\n\u001b[0;32m    737\u001b[0m     \u001b[38;5;28;01melse\u001b[39;00m:\n\u001b[1;32m--> 738\u001b[0m         \u001b[38;5;28;01mraise\u001b[39;00m \u001b[38;5;167;01mRuntimeError\u001b[39;00m(msg)\n\u001b[0;32m    739\u001b[0m mle \u001b[38;5;241m=\u001b[39m CmdStanMLE(runset)\n\u001b[0;32m    740\u001b[0m \u001b[38;5;28;01mreturn\u001b[39;00m mle\n",
      "\u001b[1;31mRuntimeError\u001b[0m: Error during optimization! Command 'C:\\Users\\Digvijay Mohite\\AppData\\Local\\Programs\\Python\\Python311\\Lib\\site-packages\\prophet\\stan_model\\prophet_model.bin random seed=34212 data file=C:\\Users\\DIGVIJ~1\\AppData\\Local\\Temp\\tmpazl05q34\\abso8h9s.json init=C:\\Users\\DIGVIJ~1\\AppData\\Local\\Temp\\tmpazl05q34\\pg5ef902.json output file=C:\\Users\\DIGVIJ~1\\AppData\\Local\\Temp\\tmpazl05q34\\prophet_model7bphy14j\\prophet_model-20230706121002.csv method=optimize algorithm=newton iter=10000' failed: "
     ]
    }
   ],
   "source": [
    "m.fit(train) # fit to training data"
   ]
  },
  {
   "cell_type": "code",
   "execution_count": null,
   "metadata": {},
   "outputs": [],
   "source": [
    "m.component_modes # to check which modes we cam use as regressor"
   ]
  },
  {
   "cell_type": "code",
   "execution_count": null,
   "metadata": {},
   "outputs": [],
   "source": [
    "test"
   ]
  },
  {
   "cell_type": "code",
   "execution_count": null,
   "metadata": {},
   "outputs": [],
   "source": [
    "# Creating future dates\n",
    "future_date = m.make_future_dataframe(periods=730,freq='D') # test(365)+future(365)=730\n",
    "future_date\n",
    "\n",
    "# 'D' or 'B': Daily frequency\n",
    "# 'H': Hourly frequency\n",
    "# 'T' or 'min': Minute frequency\n",
    "# 'S': Second frequency\n",
    "# 'W' or 'W-SUN': Weekly frequency, starting on Sundays\n",
    "# 'M': Month-end frequency , #MS for monthly\n",
    "# 'Q': Quarter-end frequency\n",
    "# 'A' or 'Y': Year-end frequency"
   ]
  },
  {
   "cell_type": "code",
   "execution_count": null,
   "metadata": {},
   "outputs": [],
   "source": [
    "forecast = m.predict(future_date)\n",
    "forecast"
   ]
  },
  {
   "cell_type": "code",
   "execution_count": null,
   "metadata": {
    "colab": {
     "base_uri": "https://localhost:8080/",
     "height": 206
    },
    "id": "uiBonScDepy4",
    "outputId": "1a70a39e-bb25-402c-bfb4-4a5dc78ccae6"
   },
   "outputs": [],
   "source": [
    "forecast[['ds', 'yhat', 'yhat_lower', 'yhat_upper']][730:]"
   ]
  },
  {
   "cell_type": "markdown",
   "metadata": {
    "id": "_cK1C6FufQZq"
   },
   "source": [
    "### using builtin FB Prophet Visualization"
   ]
  },
  {
   "cell_type": "code",
   "execution_count": null,
   "metadata": {
    "colab": {
     "base_uri": "https://localhost:8080/",
     "height": 617
    },
    "id": "fTUMwMYIe9Us",
    "outputId": "0519eeaf-012f-4c50-927a-9e77a1192cd3"
   },
   "outputs": [],
   "source": [
    "plot_plotly(m ,forecast)"
   ]
  },
  {
   "cell_type": "code",
   "execution_count": null,
   "metadata": {
    "colab": {
     "base_uri": "https://localhost:8080/",
     "height": 417
    },
    "id": "BVgB0SCWfC61",
    "outputId": "1c80b4f0-e6dd-46c3-a227-f467682fe972"
   },
   "outputs": [],
   "source": [
    "plot_components_plotly(m, forecast)"
   ]
  },
  {
   "cell_type": "markdown",
   "metadata": {
    "id": "0x6yk971fZBy"
   },
   "source": [
    "### Evaluate Your Model"
   ]
  },
  {
   "cell_type": "code",
   "execution_count": null,
   "metadata": {},
   "outputs": [],
   "source": [
    "from fbprophet.diagnostics import cross_validation\n",
    "df_cv_m = cross_validation(m,horizon='365 days')\n",
    "df_cv_m.head(15)"
   ]
  },
  {
   "cell_type": "code",
   "execution_count": null,
   "metadata": {},
   "outputs": [],
   "source": [
    "df_cv_m.tail(40)"
   ]
  },
  {
   "cell_type": "code",
   "execution_count": null,
   "metadata": {
    "id": "zuerZowXtpum"
   },
   "outputs": [],
   "source": [
    "from fbprophet.diagnostics import performance_metrics\n",
    "df_p_m = performance_metrics(df_cv_m)\n",
    "df_p_m.head()"
   ]
  },
  {
   "cell_type": "code",
   "execution_count": null,
   "metadata": {},
   "outputs": [],
   "source": [
    "from fbprophet.plot import plot_cross_validation_metric\n",
    "fig = plot_cross_validation_metric(df_cv_m, metric='rmse')"
   ]
  }
 ],
 "metadata": {
  "accelerator": "GPU",
  "colab": {
   "gpuType": "T4",
   "provenance": []
  },
  "kernelspec": {
   "display_name": "Python 3 (ipykernel)",
   "language": "python",
   "name": "python3"
  },
  "language_info": {
   "codemirror_mode": {
    "name": "ipython",
    "version": 3
   },
   "file_extension": ".py",
   "mimetype": "text/x-python",
   "name": "python",
   "nbconvert_exporter": "python",
   "pygments_lexer": "ipython3",
   "version": "3.11.3"
  }
 },
 "nbformat": 4,
 "nbformat_minor": 1
}
